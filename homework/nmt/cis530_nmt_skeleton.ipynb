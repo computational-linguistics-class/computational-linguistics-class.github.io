{
  "nbformat": 4,
  "nbformat_minor": 0,
  "metadata": {
    "colab": {
      "name": "cis530_nmt_skeleton.ipynb",
      "provenance": [],
      "collapsed_sections": []
    },
    "kernelspec": {
      "name": "python3",
      "display_name": "Python 3"
    },
    "accelerator": "GPU"
  },
  "cells": [
    {
      "cell_type": "code",
      "metadata": {
        "id": "0QG0aHJSl2fF",
        "colab_type": "code",
        "colab": {}
      },
      "source": [
        "# Mount Google Drive\n",
        "from google.colab import drive\n",
        "drive.mount('/content/Drive', force_remount=True)\n",
        "# When you run this block, you will need to click open a link to get some \n",
        "import os\n",
        "#TODO\n",
        "os.chdir('/content/Drive/My Drive/20SP/CIS530TA/[your directory]')"
      ],
      "execution_count": 0,
      "outputs": []
    },
    {
      "cell_type": "code",
      "metadata": {
        "id": "vonVvEcTmJty",
        "colab_type": "code",
        "colab": {}
      },
      "source": [
        "# Download data (https://nlp.stanford.edu/projects/jesc/index.html)\n",
        "#TODO\n",
        "!wget [a url]\n",
        "!tar -xzf [a tar.gz file]"
      ],
      "execution_count": 0,
      "outputs": []
    },
    {
      "cell_type": "code",
      "metadata": {
        "id": "9ZFJl9Simjq9",
        "colab_type": "code",
        "colab": {}
      },
      "source": [
        "# Preprocess data to OpenNMT format\n",
        "for fname in ['train','dev','test']:\n",
        "  with open('split/' + fname, encoding='utf-8') as fr, open('split/en-' + fname + '.txt', 'w', encoding='utf-8') as fwe, open('split/ja-' + fname + '.txt', 'w', encoding='utf-8') as fwj:\n",
        "    pass\n",
        "    #TODO: create 6 files, English|Japanese data for train|dev|test, one sentence per line."
      ],
      "execution_count": 0,
      "outputs": []
    },
    {
      "cell_type": "code",
      "metadata": {
        "id": "t0jd5AH2nOJ2",
        "colab_type": "code",
        "colab": {}
      },
      "source": [
        "# Install BPE (https://github.com/rsennrich/subword-nmt)\n",
        "#TODO\n",
        "!pip install [libary name]"
      ],
      "execution_count": 0,
      "outputs": []
    },
    {
      "cell_type": "code",
      "metadata": {
        "id": "dAp16C4dowef",
        "colab_type": "code",
        "colab": {}
      },
      "source": [
        "# Apply BPE, following instructions from the Github repo\n",
        "# this takes around 15 minutes\n",
        "\n",
        "#TODO\n",
        "#codes_file is where the BPE information is stored. Name it as you like. \n",
        "\n",
        "# Learn and apply BPE for English data\n",
        "!subword-nmt learn-bpe -s 10000 < {train_file} > {codes_file} # learn from train\n",
        "!subword-nmt apply-bpe -c {codes_file} < {train_file} > {train_out_file} # apply to train\n",
        "!subword-nmt apply-bpe -c {codes_file} < {dev_file} > {dev_out_file} # apply to dev\n",
        "!subword-nmt apply-bpe -c {codes_file} < {test_file} > {test_out_file} # apply to test\n",
        "\n",
        "# Learn and apply BPE for Japanese data\n",
        "!subword-nmt learn-bpe -s 10000 < {train_file} > {codes_file} # learn from train\n",
        "!subword-nmt apply-bpe -c {codes_file} < {train_file} > {train_out_file} # apply to train\n",
        "!subword-nmt apply-bpe -c {codes_file} < {dev_file} > {dev_out_file} # apply to dev\n",
        "!subword-nmt apply-bpe -c {codes_file} < {test_file} > {test_out_file} # apply to test"
      ],
      "execution_count": 0,
      "outputs": []
    },
    {
      "cell_type": "code",
      "metadata": {
        "id": "VYOb5XhacEyo",
        "colab_type": "code",
        "colab": {}
      },
      "source": [
        "# Install OpenNMT (https://github.com/OpenNMT/OpenNMT-py)\n",
        "#TODO\n",
        "!pip install [libary name]"
      ],
      "execution_count": 0,
      "outputs": []
    },
    {
      "cell_type": "code",
      "metadata": {
        "id": "UAmLf8Gb4lO8",
        "colab_type": "code",
        "colab": {}
      },
      "source": [
        "# Run OpenNMT, following instructions from the Github repo\n",
        "# this takes 1-2 hours\n",
        "\n",
        "#TODO\n",
        "#Name the prefixes for data and checkpoints as you like\n",
        "!onmt_preprocess -train_src [source train] -train_tgt [target train] -valid_src [source dev] -valid_tgt [target dev] -save_data [prefix of binarized data]\n",
        "!onmt_train -gpu_ranks 0 -data [prefix of binarized data] -save_model [prefix of checkpoints]\n",
        "!onmt_translate -model [.pt file] -src [source test] -output [output file] -replace_unk -verbose\n",
        "\n",
        "#reverse BPE\n",
        "!sed -r 's/(@@ )|(@@ ?$)//g' [output file] > [output file without BPE]"
      ],
      "execution_count": 0,
      "outputs": []
    },
    {
      "cell_type": "code",
      "metadata": {
        "id": "3yn8f-FQG05m",
        "colab_type": "code",
        "colab": {}
      },
      "source": [
        "# Evaluate translations using BLEU\n",
        "!wget https://raw.githubusercontent.com/moses-smt/mosesdecoder/master/scripts/generic/multi-bleu.perl\n",
        "#TODO\n",
        "!perl multi-bleu.perl [en-test.txt without BPE] < [your translation without BPE]"
      ],
      "execution_count": 0,
      "outputs": []
    }
  ]
}